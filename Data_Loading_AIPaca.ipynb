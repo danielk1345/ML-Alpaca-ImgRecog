{
  "nbformat": 4,
  "nbformat_minor": 0,
  "metadata": {
    "colab": {
      "name": "Data Loading AIPaca.ipynb",
      "provenance": [],
      "mount_file_id": "1DMEgDYobunJ41JGQKWNqr3S4VcC4vgmC",
      "authorship_tag": "ABX9TyOwNChQkE19G6Oz47zIvcaG",
      "include_colab_link": true
    },
    "kernelspec": {
      "name": "python3",
      "display_name": "Python 3"
    },
    "language_info": {
      "name": "python"
    }
  },
  "cells": [
    {
      "cell_type": "markdown",
      "metadata": {
        "id": "view-in-github",
        "colab_type": "text"
      },
      "source": [
        "<a href=\"https://colab.research.google.com/github/danielk1345/ML-Alpaca-ImgRecog/blob/main/Data_Loading_AIPaca.ipynb\" target=\"_parent\"><img src=\"https://colab.research.google.com/assets/colab-badge.svg\" alt=\"Open In Colab\"/></a>"
      ]
    },
    {
      "cell_type": "code",
      "execution_count": null,
      "metadata": {
        "id": "rGOBvLcWd9uN"
      },
      "outputs": [],
      "source": [
        "import numpy as np\n",
        "import os\n",
        "import cv2\n",
        "import PIL\n",
        "import PIL.Image\n",
        "import tensorflow as tf\n",
        "import tensorflow_datasets as tfds\n",
        "import matplotlib.pyplot as plt"
      ]
    },
    {
      "cell_type": "code",
      "source": [
        "from google.colab import drive\n",
        "drive.mount('/content/gdrive', force_remount=True)\n",
        "DATADIR = '/content/gdrive/MyDrive/AIpaca'\n",
        "CATEGORIES = [\"alpaca\", \"not alpaca\"]\n"
      ],
      "metadata": {
        "id": "T-L-pa06d_Q7",
        "colab": {
          "base_uri": "https://localhost:8080/"
        },
        "outputId": "88a23b59-fcef-4c5d-c95e-a11d5a54e26a"
      },
      "execution_count": null,
      "outputs": [
        {
          "output_type": "stream",
          "name": "stdout",
          "text": [
            "Mounted at /content/gdrive\n"
          ]
        }
      ]
    },
    {
      "cell_type": "code",
      "source": [
        "training_data = []\n",
        "IMG_SIZE = 150\n",
        "def create_training_data():\n",
        "  IMG_SIZE = 150\n",
        "  for category in CATEGORIES:\n",
        "    path = os.path.join(DATADIR, category)\n",
        "    classification_num = CATEGORIES.index(category)\n",
        "    # 0 for an alpaca, 1 for not an alpaca\n",
        "    for img in os.listdir(path):\n",
        "      try:\n",
        "        img_array = cv2.imread(os.path.join(path,img), cv2.IMREAD_GRAYSCALE)\n",
        "        new_array = cv2.resize(img_array, (IMG_SIZE, IMG_SIZE))\n",
        "        training_data.append([new_array, classification_num])\n",
        "      except Exception as e:\n",
        "        pass\n",
        "\n",
        "create_training_data()"
      ],
      "metadata": {
        "id": "zRqelsi8kepG"
      },
      "execution_count": null,
      "outputs": []
    },
    {
      "cell_type": "code",
      "source": [
        "print(len(training_data))"
      ],
      "metadata": {
        "colab": {
          "base_uri": "https://localhost:8080/"
        },
        "id": "U-OFPGUorFTN",
        "outputId": "ab496d21-4e1c-4745-9db2-0ecb377b5396"
      },
      "execution_count": null,
      "outputs": [
        {
          "output_type": "stream",
          "name": "stdout",
          "text": [
            "659\n"
          ]
        }
      ]
    },
    {
      "cell_type": "code",
      "source": [
        "import random\n",
        "random.shuffle(training_data)"
      ],
      "metadata": {
        "id": "uZ2B_O4jrWP_"
      },
      "execution_count": null,
      "outputs": []
    },
    {
      "cell_type": "code",
      "source": [
        "X = []\n",
        "y = []"
      ],
      "metadata": {
        "id": "FVLB0F7MrkNJ"
      },
      "execution_count": null,
      "outputs": []
    },
    {
      "cell_type": "code",
      "source": [
        "for feature,label in training_data:\n",
        "  X.append(feature)\n",
        "  y.append(label)\n",
        "\n",
        "X = np.array(X).reshape(-1, IMG_SIZE, IMG_SIZE,1)\n"
      ],
      "metadata": {
        "id": "pNliM-iXr2Q_"
      },
      "execution_count": null,
      "outputs": []
    },
    {
      "cell_type": "code",
      "source": [
        "import pickle\n",
        "pickle_out = open(\"X.pickle\", \"wb\")\n",
        "pickle.dump(X,pickle_out)\n",
        "pickle_out.close()\n",
        "\n",
        "pickle_out = open(\"y.pickle\", \"wb\")\n",
        "pickle.dump(y, pickle_out)\n",
        "pickle_out.close()"
      ],
      "metadata": {
        "id": "zoWkxR4qukHo"
      },
      "execution_count": null,
      "outputs": []
    },
    {
      "cell_type": "code",
      "source": [
        "from tensorflow.keras.models import Sequential\n",
        "from tensorflow.keras.layers import Dense, Dropout, Activation, Flatten, Conv2D, MaxPooling2D\n",
        "X = pickle.load(open(\"X.pickle\", \"rb\"))\n",
        "y = pickle.load(open(\"y.pickle\", \"rb\"))\n",
        "\n",
        "X = X/255.0\n",
        "\n",
        "\n",
        "model = Sequential()\n",
        "model.add(Conv2D(64, (3,3), input_shape = X.shape[1:]))\n",
        "model.add(Activation(\"relu\"))\n",
        "model.add(MaxPooling2D(pool_size=(2,2)))\n",
        "\n",
        "model.add(Conv2D(64, (3,3)))\n",
        "model.add(Activation(\"relu\"))\n",
        "model.add(MaxPooling2D(pool_size=(2,2)))\n",
        "\n",
        "model.add(Flatten())\n",
        "model.add(Dense(64))\n",
        "\n",
        "model.add(Dense(1))\n",
        "model.add(Activation('sigmoid'))\n",
        "\n",
        "model.compile(loss=\"binary_crossentropy\",\n",
        "             optimizer=\"Adam\",\n",
        "             metrics=[\"accuracy\"])\n",
        "y = np.array(y)\n",
        "\n",
        "model.fit(X, y, batch_size=32, epochs = 32, validation_split=0.2)"
      ],
      "metadata": {
        "colab": {
          "base_uri": "https://localhost:8080/"
        },
        "id": "HsAYQJWeBS-P",
        "outputId": "c8795299-84b4-4a51-e07d-1f799dfc2c89"
      },
      "execution_count": null,
      "outputs": [
        {
          "output_type": "stream",
          "name": "stdout",
          "text": [
            "Epoch 1/32\n",
            "17/17 [==============================] - 28s 2s/step - loss: 2.5927 - accuracy: 0.5522 - val_loss: 0.6272 - val_accuracy: 0.6742\n",
            "Epoch 2/32\n",
            "17/17 [==============================] - 27s 2s/step - loss: 0.6539 - accuracy: 0.5939 - val_loss: 0.6080 - val_accuracy: 0.6970\n",
            "Epoch 3/32\n",
            "17/17 [==============================] - 28s 2s/step - loss: 0.5869 - accuracy: 0.7021 - val_loss: 0.6322 - val_accuracy: 0.7045\n",
            "Epoch 4/32\n",
            "17/17 [==============================] - 26s 2s/step - loss: 0.5002 - accuracy: 0.7590 - val_loss: 0.5944 - val_accuracy: 0.7500\n",
            "Epoch 5/32\n",
            "17/17 [==============================] - 26s 2s/step - loss: 0.3865 - accuracy: 0.8292 - val_loss: 0.7932 - val_accuracy: 0.5758\n",
            "Epoch 6/32\n",
            "17/17 [==============================] - 26s 2s/step - loss: 0.3213 - accuracy: 0.8861 - val_loss: 0.6023 - val_accuracy: 0.7273\n",
            "Epoch 7/32\n",
            "17/17 [==============================] - 26s 2s/step - loss: 0.2418 - accuracy: 0.9146 - val_loss: 0.7172 - val_accuracy: 0.6591\n",
            "Epoch 8/32\n",
            "17/17 [==============================] - 27s 2s/step - loss: 0.1585 - accuracy: 0.9583 - val_loss: 0.7526 - val_accuracy: 0.6667\n",
            "Epoch 9/32\n",
            "17/17 [==============================] - 28s 2s/step - loss: 0.1126 - accuracy: 0.9696 - val_loss: 0.8160 - val_accuracy: 0.6439\n",
            "Epoch 10/32\n",
            "17/17 [==============================] - 26s 2s/step - loss: 0.0755 - accuracy: 0.9867 - val_loss: 1.0851 - val_accuracy: 0.7045\n",
            "Epoch 11/32\n",
            "17/17 [==============================] - 28s 2s/step - loss: 0.0545 - accuracy: 0.9848 - val_loss: 1.0437 - val_accuracy: 0.6667\n",
            "Epoch 12/32\n",
            "17/17 [==============================] - 27s 2s/step - loss: 0.0397 - accuracy: 0.9924 - val_loss: 1.1916 - val_accuracy: 0.6894\n",
            "Epoch 13/32\n",
            "17/17 [==============================] - 27s 2s/step - loss: 0.0273 - accuracy: 1.0000 - val_loss: 1.1990 - val_accuracy: 0.6288\n",
            "Epoch 14/32\n",
            "17/17 [==============================] - 27s 2s/step - loss: 0.0153 - accuracy: 0.9981 - val_loss: 1.2875 - val_accuracy: 0.6288\n",
            "Epoch 15/32\n",
            "17/17 [==============================] - 27s 2s/step - loss: 0.0099 - accuracy: 1.0000 - val_loss: 1.2302 - val_accuracy: 0.6894\n",
            "Epoch 16/32\n",
            "17/17 [==============================] - 27s 2s/step - loss: 0.0090 - accuracy: 1.0000 - val_loss: 1.4157 - val_accuracy: 0.6591\n",
            "Epoch 17/32\n",
            "17/17 [==============================] - 27s 2s/step - loss: 0.0059 - accuracy: 1.0000 - val_loss: 1.3680 - val_accuracy: 0.6667\n",
            "Epoch 18/32\n",
            "17/17 [==============================] - 27s 2s/step - loss: 0.0046 - accuracy: 1.0000 - val_loss: 1.4389 - val_accuracy: 0.6591\n",
            "Epoch 19/32\n",
            "17/17 [==============================] - 27s 2s/step - loss: 0.0034 - accuracy: 1.0000 - val_loss: 1.5063 - val_accuracy: 0.6515\n",
            "Epoch 20/32\n",
            "17/17 [==============================] - 26s 2s/step - loss: 0.0030 - accuracy: 1.0000 - val_loss: 1.5608 - val_accuracy: 0.6288\n",
            "Epoch 21/32\n",
            "17/17 [==============================] - 26s 2s/step - loss: 0.0025 - accuracy: 1.0000 - val_loss: 1.5478 - val_accuracy: 0.6364\n",
            "Epoch 22/32\n",
            "17/17 [==============================] - 26s 2s/step - loss: 0.0023 - accuracy: 1.0000 - val_loss: 1.5943 - val_accuracy: 0.6439\n",
            "Epoch 23/32\n",
            "17/17 [==============================] - 26s 2s/step - loss: 0.0019 - accuracy: 1.0000 - val_loss: 1.6185 - val_accuracy: 0.6439\n",
            "Epoch 24/32\n",
            "17/17 [==============================] - 26s 2s/step - loss: 0.0016 - accuracy: 1.0000 - val_loss: 1.6523 - val_accuracy: 0.6364\n",
            "Epoch 25/32\n",
            "17/17 [==============================] - 27s 2s/step - loss: 0.0015 - accuracy: 1.0000 - val_loss: 1.6806 - val_accuracy: 0.6364\n",
            "Epoch 26/32\n",
            "17/17 [==============================] - 27s 2s/step - loss: 0.0014 - accuracy: 1.0000 - val_loss: 1.6892 - val_accuracy: 0.6591\n",
            "Epoch 27/32\n",
            "17/17 [==============================] - 26s 2s/step - loss: 0.0012 - accuracy: 1.0000 - val_loss: 1.7051 - val_accuracy: 0.6364\n",
            "Epoch 28/32\n",
            "17/17 [==============================] - 27s 2s/step - loss: 0.0011 - accuracy: 1.0000 - val_loss: 1.7601 - val_accuracy: 0.6364\n",
            "Epoch 29/32\n",
            "17/17 [==============================] - 27s 2s/step - loss: 0.0011 - accuracy: 1.0000 - val_loss: 1.7548 - val_accuracy: 0.6439\n",
            "Epoch 30/32\n",
            "17/17 [==============================] - 27s 2s/step - loss: 9.1848e-04 - accuracy: 1.0000 - val_loss: 1.7708 - val_accuracy: 0.6439\n",
            "Epoch 31/32\n",
            "17/17 [==============================] - 27s 2s/step - loss: 8.2539e-04 - accuracy: 1.0000 - val_loss: 1.7842 - val_accuracy: 0.6439\n",
            "Epoch 32/32\n",
            "17/17 [==============================] - 29s 2s/step - loss: 7.9976e-04 - accuracy: 1.0000 - val_loss: 1.8036 - val_accuracy: 0.6439\n"
          ]
        },
        {
          "output_type": "execute_result",
          "data": {
            "text/plain": [
              "<keras.callbacks.History at 0x7f2102ff8950>"
            ]
          },
          "metadata": {},
          "execution_count": 9
        }
      ]
    },
    {
      "cell_type": "code",
      "source": [
        "model.save('Alpaca_CNN.model')"
      ],
      "metadata": {
        "id": "vfmxzkrRDQ4G",
        "colab": {
          "base_uri": "https://localhost:8080/"
        },
        "outputId": "f126b0be-9dee-4f5e-f412-f0af143ae7fd"
      },
      "execution_count": null,
      "outputs": [
        {
          "output_type": "stream",
          "name": "stdout",
          "text": [
            "INFO:tensorflow:Assets written to: Alpaca_CNN.model/assets\n"
          ]
        }
      ]
    }
  ]
}